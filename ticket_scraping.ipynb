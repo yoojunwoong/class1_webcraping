{
 "cells": [
  {
   "cell_type": "code",
   "execution_count": 1,
   "id": "33a9490b",
   "metadata": {},
   "outputs": [],
   "source": [
    "from selenium import webdriver"
   ]
  },
  {
   "cell_type": "code",
   "execution_count": 2,
   "id": "5c8635b0",
   "metadata": {},
   "outputs": [],
   "source": [
    "browser = webdriver.Chrome('./chromedriver.exe')"
   ]
  },
  {
   "cell_type": "code",
   "execution_count": 3,
   "id": "8b9e509b",
   "metadata": {},
   "outputs": [],
   "source": [
    "browser.get('http://ticket.interpark.com/Contents/Ranking?smid1=s_menu&smid2=performance')"
   ]
  },
  {
   "cell_type": "code",
   "execution_count": 4,
   "id": "0361e72e",
   "metadata": {},
   "outputs": [],
   "source": [
    "html = browser.page_source"
   ]
  },
  {
   "cell_type": "code",
   "execution_count": 5,
   "id": "35fc9b5b",
   "metadata": {},
   "outputs": [],
   "source": [
    "from bs4 import BeautifulSoup"
   ]
  },
  {
   "cell_type": "code",
   "execution_count": 6,
   "id": "6f52605d",
   "metadata": {},
   "outputs": [],
   "source": [
    "soup = BeautifulSoup(html, 'html.parser')"
   ]
  },
  {
   "cell_type": "code",
   "execution_count": 7,
   "id": "01ba4a6c",
   "metadata": {},
   "outputs": [
    {
     "data": {
      "text/plain": [
       "(1, bs4.BeautifulSoup)"
      ]
     },
     "execution_count": 7,
     "metadata": {},
     "output_type": "execute_result"
    }
   ],
   "source": [
    "len(soup),type(soup)"
   ]
  },
  {
   "cell_type": "code",
   "execution_count": 8,
   "id": "6b735183",
   "metadata": {},
   "outputs": [],
   "source": [
    "tag = soup.select('div.items')"
   ]
  },
  {
   "cell_type": "code",
   "execution_count": 9,
   "id": "86df53f0",
   "metadata": {},
   "outputs": [
    {
     "data": {
      "text/plain": [
       "(40, bs4.element.ResultSet)"
      ]
     },
     "execution_count": 9,
     "metadata": {},
     "output_type": "execute_result"
    }
   ],
   "source": [
    "len(tag), type(tag)"
   ]
  },
  {
   "cell_type": "code",
   "execution_count": 10,
   "id": "df026ca8",
   "metadata": {},
   "outputs": [
    {
     "data": {
      "text/plain": [
       "<div class=\"items\"><ul> <li>\n",
       "<div class=\"percentage\">\n",
       "<ul class=\"nums\">\n",
       "<li class=\"num num2\"></li>\n",
       "<li class=\"num dot\"></li>\n",
       "<li class=\"num num9\"></li>\n",
       "<li class=\"num percent\"></li>\n",
       "</ul>\n",
       "<a href=\"javascript:;\" onclick=\"Go('21003166', 'Y', ''); \"><img alt=\"\" src=\"http://ticketimage.interpark.com/TicketImage/2016/20160308_ranking/main/img/buyBtn.gif\"/></a>\n",
       "</div>\n",
       "<a class=\"prdImg\" href=\"javascript:;\" onclick=\"Go('21003166', 'Y', ''); \" style=\"display:block\"><span class=\"flag\">11</span><img alt=\"\" onerror=\" this.src = 'http://ticketimage.interpark.com/Play/image/large/NoImage.gif'; \" src=\"http://ticketimage.interpark.com/Play/image/large/21/21003166_p.gif\"/></a>\n",
       "<a class=\"prdName\" href=\"javascript:;\" onclick=\"Go('21003166', 'Y', ''); \">뮤지컬 〈라 레볼뤼시옹〉</a>\n",
       "<a class=\"prdDuration\" href=\"javascript:;\" onclick=\"Go('21003166', 'Y', ''); \">05.18~08.01</a>\n",
       "</li>\n",
       "<li>\n",
       "<div class=\"percentage\">\n",
       "<ul class=\"nums\">\n",
       "<li class=\"num num2\"></li>\n",
       "<li class=\"num dot\"></li>\n",
       "<li class=\"num num4\"></li>\n",
       "<li class=\"num percent\"></li>\n",
       "</ul>\n",
       "<a href=\"javascript:;\" onclick=\"Go('21004531', 'Y', ''); \"><img alt=\"\" src=\"http://ticketimage.interpark.com/TicketImage/2016/20160308_ranking/main/img/buyBtn.gif\"/></a>\n",
       "</div>\n",
       "<a class=\"prdImg\" href=\"javascript:;\" onclick=\"Go('21004531', 'Y', ''); \" style=\"display:block\"><span class=\"flag\">12</span><img alt=\"\" onerror=\" this.src = 'http://ticketimage.interpark.com/Play/image/large/NoImage.gif'; \" src=\"http://ticketimage.interpark.com/Play/image/large/21/21004531_p.gif\"/></a>\n",
       "<a class=\"prdName\" href=\"javascript:;\" onclick=\"Go('21004531', 'Y', ''); \">뮤지컬 〈스프링 어웨이크닝〉</a>\n",
       "<a class=\"prdDuration\" href=\"javascript:;\" onclick=\"Go('21004531', 'Y', ''); \">07.08~10.03</a>\n",
       "</li>\n",
       "<li>\n",
       "<div class=\"percentage\">\n",
       "<ul class=\"nums\">\n",
       "<li class=\"num num2\"></li>\n",
       "<li class=\"num dot\"></li>\n",
       "<li class=\"num num3\"></li>\n",
       "<li class=\"num percent\"></li>\n",
       "</ul>\n",
       "<a href=\"javascript:;\" onclick=\"Go('21003130', 'Y', ''); \"><img alt=\"\" src=\"http://ticketimage.interpark.com/TicketImage/2016/20160308_ranking/main/img/buyBtn.gif\"/></a>\n",
       "</div>\n",
       "<a class=\"prdImg\" href=\"javascript:;\" onclick=\"Go('21003130', 'Y', ''); \" style=\"display:block\"><span class=\"flag\">13</span><img alt=\"\" onerror=\" this.src = 'http://ticketimage.interpark.com/Play/image/large/NoImage.gif'; \" src=\"http://ticketimage.interpark.com/Play/image/large/21/21003130_p.gif\"/></a>\n",
       "<a class=\"prdName\" href=\"javascript:;\" onclick=\"Go('21003130', 'Y', ''); \">2021 뮤지컬 〈마마,돈크라이〉 10+1주년 기념 공연</a>\n",
       "<a class=\"prdDuration\" href=\"javascript:;\" onclick=\"Go('21003130', 'Y', ''); \">05.27~08.22</a>\n",
       "</li>\n",
       "<li>\n",
       "<div class=\"percentage\">\n",
       "<ul class=\"nums\">\n",
       "<li class=\"num num2\"></li>\n",
       "<li class=\"num dot\"></li>\n",
       "<li class=\"num num1\"></li>\n",
       "<li class=\"num percent\"></li>\n",
       "</ul>\n",
       "<a href=\"javascript:;\" onclick=\"Go('21002454', 'Y', ''); \"><img alt=\"\" src=\"http://ticketimage.interpark.com/TicketImage/2016/20160308_ranking/main/img/buyBtn.gif\"/></a>\n",
       "</div>\n",
       "<a class=\"prdImg\" href=\"javascript:;\" onclick=\"Go('21002454', 'Y', ''); \" style=\"display:block\"><span class=\"flag\">14</span><img alt=\"\" onerror=\" this.src = 'http://ticketimage.interpark.com/Play/image/large/NoImage.gif'; \" src=\"http://ticketimage.interpark.com/Play/image/large/21/21002454_p.gif\"/></a>\n",
       "<a class=\"prdName\" href=\"javascript:;\" onclick=\"Go('21002454', 'Y', ''); \">뮤지컬 〈위키드〉 - 부산 초연 (Musical Wicked)</a>\n",
       "<a class=\"prdDuration\" href=\"javascript:;\" onclick=\"Go('21002454', 'Y', ''); \">05.20~06.27</a>\n",
       "</li>\n",
       "<li>\n",
       "<div class=\"percentage\">\n",
       "<ul class=\"nums\">\n",
       "<li class=\"num num2\"></li>\n",
       "<li class=\"num dot\"></li>\n",
       "<li class=\"num num1\"></li>\n",
       "<li class=\"num percent\"></li>\n",
       "</ul>\n",
       "<a href=\"javascript:;\" onclick=\"Go('21004224', 'Y', ''); \"><img alt=\"\" src=\"http://ticketimage.interpark.com/TicketImage/2016/20160308_ranking/main/img/buyBtn.gif\"/></a>\n",
       "</div>\n",
       "<a class=\"prdImg\" href=\"javascript:;\" onclick=\"Go('21004224', 'Y', ''); \" style=\"display:block\"><span class=\"flag\">14</span><img alt=\"\" onerror=\" this.src = 'http://ticketimage.interpark.com/Play/image/large/NoImage.gif'; \" src=\"http://ticketimage.interpark.com/Play/image/large/21/21004224_p.gif\"/></a>\n",
       "<a class=\"prdName\" href=\"javascript:;\" onclick=\"Go('21004224', 'Y', ''); \">뮤지컬 〈해적〉</a>\n",
       "<a class=\"prdDuration\" href=\"javascript:;\" onclick=\"Go('21004224', 'Y', ''); \">06.15~08.29</a>\n",
       "</li>\n",
       "</ul></div>"
      ]
     },
     "execution_count": 10,
     "metadata": {},
     "output_type": "execute_result"
    }
   ],
   "source": [
    "tag1 = tag[0]\n",
    "tag1           "
   ]
  },
  {
   "cell_type": "markdown",
   "id": "7af3e80d",
   "metadata": {},
   "source": [
    "영화명 : a.prdName, 날짜 : a.prdDuration"
   ]
  },
  {
   "cell_type": "code",
   "execution_count": 11,
   "id": "f1628cae",
   "metadata": {},
   "outputs": [
    {
     "data": {
      "text/plain": [
       "(5, bs4.element.ResultSet)"
      ]
     },
     "execution_count": 11,
     "metadata": {},
     "output_type": "execute_result"
    }
   ],
   "source": [
    "prdName = tag1.select('a.prdName')\n",
    "len(prdName), type(prdName)"
   ]
  },
  {
   "cell_type": "code",
   "execution_count": 12,
   "id": "4d512db3",
   "metadata": {},
   "outputs": [
    {
     "data": {
      "text/plain": [
       "<a class=\"prdName\" href=\"javascript:;\" onclick=\"Go('21003166', 'Y', ''); \">뮤지컬 〈라 레볼뤼시옹〉</a>"
      ]
     },
     "execution_count": 12,
     "metadata": {},
     "output_type": "execute_result"
    }
   ],
   "source": [
    "prdName[0]"
   ]
  },
  {
   "cell_type": "code",
   "execution_count": 13,
   "id": "95f5c35e",
   "metadata": {},
   "outputs": [
    {
     "data": {
      "text/plain": [
       "'뮤지컬 〈라 레볼뤼시옹〉'"
      ]
     },
     "execution_count": 13,
     "metadata": {},
     "output_type": "execute_result"
    }
   ],
   "source": [
    "prdName[0].text.strip()"
   ]
  },
  {
   "cell_type": "code",
   "execution_count": 14,
   "id": "12d10647",
   "metadata": {},
   "outputs": [
    {
     "data": {
      "text/plain": [
       "(5, bs4.element.ResultSet)"
      ]
     },
     "execution_count": 14,
     "metadata": {},
     "output_type": "execute_result"
    }
   ],
   "source": [
    "prdDuration = tag1.select('a.prdDuration')\n",
    "len(prdDuration), type(prdDuration)"
   ]
  },
  {
   "cell_type": "code",
   "execution_count": 15,
   "id": "4b5dc1de",
   "metadata": {},
   "outputs": [
    {
     "data": {
      "text/plain": [
       "'05.18~08.01'"
      ]
     },
     "execution_count": 15,
     "metadata": {},
     "output_type": "execute_result"
    }
   ],
   "source": [
    "prdDuration[0].text.strip()"
   ]
  },
  {
   "cell_type": "code",
   "execution_count": 16,
   "id": "498b4163",
   "metadata": {},
   "outputs": [
    {
     "data": {
      "text/plain": [
       "[['뮤지컬 〈라 레볼뤼시옹〉', '05.18~08.01'],\n",
       " ['뮤지컬 〈마리 앙투아네트〉', '07.13~10.03'],\n",
       " ['뮤지컬 〈시카고〉', '04.02~07.18'],\n",
       " ['뮤지컬 〈라 레볼뤼시옹〉', '05.18~08.01'],\n",
       " ['뮤지컬 〈마리 앙투아네트〉', '07.13~10.03'],\n",
       " ['2021 GOLDEN CHILD CONCERT ‘Summer Breeze’', '07.17~07.18'],\n",
       " ['하성운(HA SUNG WOON) Forest ＆ in 서울', '07.24~07.25'],\n",
       " ['강아솔 토크콘서트 - 인천', '07.03~07.03'],\n",
       " ['2021 GOLDEN CHILD CONCERT ‘Summer Breeze’', '07.17~07.18'],\n",
       " ['하성운(HA SUNG WOON) Forest ＆ in 서울', '07.24~07.25'],\n",
       " ['연극 작업의 정석', '06.18~07.31'],\n",
       " ['연극 `완벽한 타인`', '05.18~08.01'],\n",
       " ['2021 연극 〈렁스〉', '06.26~09.05'],\n",
       " ['연극 작업의 정석', '06.18~07.31'],\n",
       " ['연극 `완벽한 타인`', '05.18~08.01'],\n",
       " ['라포엠 첫 번째 단독 콘서트 〈SCENE#1〉 - 울산', '06.26~06.27'],\n",
       " ['〈포르테 디 콰트로 언플러그드 콘서트: 더 클래식〉 피날레', '07.16~07.16'],\n",
       " ['라포엠 첫 번째 단독 콘서트 〈SCENE#1〉 - 성남', '07.24~07.25'],\n",
       " ['라포엠 첫 번째 단독 콘서트 〈SCENE#1〉 - 울산', '06.26~06.27'],\n",
       " ['〈포르테 디 콰트로 언플러그드 콘서트: 더 클래식〉 피날레', '07.16~07.16'],\n",
       " ['2021 The Esports Night 철권7 팀리그 (6.25)', '06.25~06.25'],\n",
       " ['두산 vs 롯데 (6.27)', '06.27~06.27'],\n",
       " ['키움 vs KIA (6.27)', '06.27~06.27'],\n",
       " ['2021 The Esports Night 철권7 팀리그 (6.25)', '06.25~06.25'],\n",
       " ['두산 vs 롯데 (6.27)', '06.27~06.27'],\n",
       " ['2021 함양 대봉스카이랜드 ( 모노레일＆짚라인 ) (21.07 ~)', '07.01~07.31'],\n",
       " ['구미에코랜드 생태탐방 모노레일 이용권', '04.01~07.31'],\n",
       " ['자라섬캠핑장', '05.12~07.31'],\n",
       " ['2021 함양 대봉스카이랜드 ( 모노레일＆짚라인 ) (21.07 ~)', '07.01~07.31'],\n",
       " ['구미에코랜드 생태탐방 모노레일 이용권', '04.01~07.31'],\n",
       " ['마르첼로 바렌기展', '04.24~08.22'],\n",
       " ['［슈퍼얼리버드］앨리스 달튼 브라운', '07.24~10.24'],\n",
       " ['요시고 사진전：따뜻한 휴일의 기록', '06.23~12.05'],\n",
       " ['마르첼로 바렌기展', '04.24~08.22'],\n",
       " ['［슈퍼얼리버드］앨리스 달튼 브라운', '07.24~10.24'],\n",
       " ['뮤지컬 흔한남매〈엄마의 꿈을 지켜라!〉- 서울앵콜', '07.08~08.01'],\n",
       " ['뮤지컬〈공룡 타루〉－국립중앙박물관 극장용', '07.03~08.29'],\n",
       " ['［하남］싱어롱 콘서트 뮤지컬 ‘ Live Show ’ 〈무지개 물고기〉', '07.10~07.11'],\n",
       " ['뮤지컬 흔한남매〈엄마의 꿈을 지켜라!〉- 서울앵콜', '07.08~08.01'],\n",
       " ['뮤지컬〈공룡 타루〉－국립중앙박물관 극장용', '07.03~08.29']]"
      ]
     },
     "execution_count": 16,
     "metadata": {},
     "output_type": "execute_result"
    }
   ],
   "source": [
    "contents = list()\n",
    "for tag1 in tag:\n",
    "    prdName = tag1.select('a.prdName')\n",
    "    prdDuration = tag1.select('a.prdDuration')\n",
    "    contents.append([prdName[0].text.strip(), prdDuration[0].text.strip()])\n",
    "contents    "
   ]
  },
  {
   "cell_type": "code",
   "execution_count": 17,
   "id": "00a3893d",
   "metadata": {},
   "outputs": [],
   "source": [
    "import pandas as pd"
   ]
  },
  {
   "cell_type": "code",
   "execution_count": 19,
   "id": "929b97e6",
   "metadata": {},
   "outputs": [
    {
     "data": {
      "text/html": [
       "<div>\n",
       "<style scoped>\n",
       "    .dataframe tbody tr th:only-of-type {\n",
       "        vertical-align: middle;\n",
       "    }\n",
       "\n",
       "    .dataframe tbody tr th {\n",
       "        vertical-align: top;\n",
       "    }\n",
       "\n",
       "    .dataframe thead th {\n",
       "        text-align: right;\n",
       "    }\n",
       "</style>\n",
       "<table border=\"1\" class=\"dataframe\">\n",
       "  <thead>\n",
       "    <tr style=\"text-align: right;\">\n",
       "      <th></th>\n",
       "      <th>title</th>\n",
       "      <th>Data Range</th>\n",
       "    </tr>\n",
       "  </thead>\n",
       "  <tbody>\n",
       "    <tr>\n",
       "      <th>0</th>\n",
       "      <td>뮤지컬 〈라 레볼뤼시옹〉</td>\n",
       "      <td>05.18~08.01</td>\n",
       "    </tr>\n",
       "    <tr>\n",
       "      <th>1</th>\n",
       "      <td>뮤지컬 〈마리 앙투아네트〉</td>\n",
       "      <td>07.13~10.03</td>\n",
       "    </tr>\n",
       "    <tr>\n",
       "      <th>2</th>\n",
       "      <td>뮤지컬 〈시카고〉</td>\n",
       "      <td>04.02~07.18</td>\n",
       "    </tr>\n",
       "    <tr>\n",
       "      <th>3</th>\n",
       "      <td>뮤지컬 〈라 레볼뤼시옹〉</td>\n",
       "      <td>05.18~08.01</td>\n",
       "    </tr>\n",
       "    <tr>\n",
       "      <th>4</th>\n",
       "      <td>뮤지컬 〈마리 앙투아네트〉</td>\n",
       "      <td>07.13~10.03</td>\n",
       "    </tr>\n",
       "    <tr>\n",
       "      <th>5</th>\n",
       "      <td>2021 GOLDEN CHILD CONCERT ‘Summer Breeze’</td>\n",
       "      <td>07.17~07.18</td>\n",
       "    </tr>\n",
       "    <tr>\n",
       "      <th>6</th>\n",
       "      <td>하성운(HA SUNG WOON) Forest ＆ in 서울</td>\n",
       "      <td>07.24~07.25</td>\n",
       "    </tr>\n",
       "    <tr>\n",
       "      <th>7</th>\n",
       "      <td>강아솔 토크콘서트 - 인천</td>\n",
       "      <td>07.03~07.03</td>\n",
       "    </tr>\n",
       "    <tr>\n",
       "      <th>8</th>\n",
       "      <td>2021 GOLDEN CHILD CONCERT ‘Summer Breeze’</td>\n",
       "      <td>07.17~07.18</td>\n",
       "    </tr>\n",
       "    <tr>\n",
       "      <th>9</th>\n",
       "      <td>하성운(HA SUNG WOON) Forest ＆ in 서울</td>\n",
       "      <td>07.24~07.25</td>\n",
       "    </tr>\n",
       "    <tr>\n",
       "      <th>10</th>\n",
       "      <td>연극 작업의 정석</td>\n",
       "      <td>06.18~07.31</td>\n",
       "    </tr>\n",
       "    <tr>\n",
       "      <th>11</th>\n",
       "      <td>연극 `완벽한 타인`</td>\n",
       "      <td>05.18~08.01</td>\n",
       "    </tr>\n",
       "    <tr>\n",
       "      <th>12</th>\n",
       "      <td>2021 연극 〈렁스〉</td>\n",
       "      <td>06.26~09.05</td>\n",
       "    </tr>\n",
       "    <tr>\n",
       "      <th>13</th>\n",
       "      <td>연극 작업의 정석</td>\n",
       "      <td>06.18~07.31</td>\n",
       "    </tr>\n",
       "    <tr>\n",
       "      <th>14</th>\n",
       "      <td>연극 `완벽한 타인`</td>\n",
       "      <td>05.18~08.01</td>\n",
       "    </tr>\n",
       "    <tr>\n",
       "      <th>15</th>\n",
       "      <td>라포엠 첫 번째 단독 콘서트 〈SCENE#1〉 - 울산</td>\n",
       "      <td>06.26~06.27</td>\n",
       "    </tr>\n",
       "    <tr>\n",
       "      <th>16</th>\n",
       "      <td>〈포르테 디 콰트로 언플러그드 콘서트: 더 클래식〉 피날레</td>\n",
       "      <td>07.16~07.16</td>\n",
       "    </tr>\n",
       "    <tr>\n",
       "      <th>17</th>\n",
       "      <td>라포엠 첫 번째 단독 콘서트 〈SCENE#1〉 - 성남</td>\n",
       "      <td>07.24~07.25</td>\n",
       "    </tr>\n",
       "    <tr>\n",
       "      <th>18</th>\n",
       "      <td>라포엠 첫 번째 단독 콘서트 〈SCENE#1〉 - 울산</td>\n",
       "      <td>06.26~06.27</td>\n",
       "    </tr>\n",
       "    <tr>\n",
       "      <th>19</th>\n",
       "      <td>〈포르테 디 콰트로 언플러그드 콘서트: 더 클래식〉 피날레</td>\n",
       "      <td>07.16~07.16</td>\n",
       "    </tr>\n",
       "    <tr>\n",
       "      <th>20</th>\n",
       "      <td>2021 The Esports Night 철권7 팀리그 (6.25)</td>\n",
       "      <td>06.25~06.25</td>\n",
       "    </tr>\n",
       "    <tr>\n",
       "      <th>21</th>\n",
       "      <td>두산 vs 롯데 (6.27)</td>\n",
       "      <td>06.27~06.27</td>\n",
       "    </tr>\n",
       "    <tr>\n",
       "      <th>22</th>\n",
       "      <td>키움 vs KIA (6.27)</td>\n",
       "      <td>06.27~06.27</td>\n",
       "    </tr>\n",
       "    <tr>\n",
       "      <th>23</th>\n",
       "      <td>2021 The Esports Night 철권7 팀리그 (6.25)</td>\n",
       "      <td>06.25~06.25</td>\n",
       "    </tr>\n",
       "    <tr>\n",
       "      <th>24</th>\n",
       "      <td>두산 vs 롯데 (6.27)</td>\n",
       "      <td>06.27~06.27</td>\n",
       "    </tr>\n",
       "    <tr>\n",
       "      <th>25</th>\n",
       "      <td>2021 함양 대봉스카이랜드 ( 모노레일＆짚라인 ) (21.07 ~)</td>\n",
       "      <td>07.01~07.31</td>\n",
       "    </tr>\n",
       "    <tr>\n",
       "      <th>26</th>\n",
       "      <td>구미에코랜드 생태탐방 모노레일 이용권</td>\n",
       "      <td>04.01~07.31</td>\n",
       "    </tr>\n",
       "    <tr>\n",
       "      <th>27</th>\n",
       "      <td>자라섬캠핑장</td>\n",
       "      <td>05.12~07.31</td>\n",
       "    </tr>\n",
       "    <tr>\n",
       "      <th>28</th>\n",
       "      <td>2021 함양 대봉스카이랜드 ( 모노레일＆짚라인 ) (21.07 ~)</td>\n",
       "      <td>07.01~07.31</td>\n",
       "    </tr>\n",
       "    <tr>\n",
       "      <th>29</th>\n",
       "      <td>구미에코랜드 생태탐방 모노레일 이용권</td>\n",
       "      <td>04.01~07.31</td>\n",
       "    </tr>\n",
       "    <tr>\n",
       "      <th>30</th>\n",
       "      <td>마르첼로 바렌기展</td>\n",
       "      <td>04.24~08.22</td>\n",
       "    </tr>\n",
       "    <tr>\n",
       "      <th>31</th>\n",
       "      <td>［슈퍼얼리버드］앨리스 달튼 브라운</td>\n",
       "      <td>07.24~10.24</td>\n",
       "    </tr>\n",
       "    <tr>\n",
       "      <th>32</th>\n",
       "      <td>요시고 사진전：따뜻한 휴일의 기록</td>\n",
       "      <td>06.23~12.05</td>\n",
       "    </tr>\n",
       "    <tr>\n",
       "      <th>33</th>\n",
       "      <td>마르첼로 바렌기展</td>\n",
       "      <td>04.24~08.22</td>\n",
       "    </tr>\n",
       "    <tr>\n",
       "      <th>34</th>\n",
       "      <td>［슈퍼얼리버드］앨리스 달튼 브라운</td>\n",
       "      <td>07.24~10.24</td>\n",
       "    </tr>\n",
       "    <tr>\n",
       "      <th>35</th>\n",
       "      <td>뮤지컬 흔한남매〈엄마의 꿈을 지켜라!〉- 서울앵콜</td>\n",
       "      <td>07.08~08.01</td>\n",
       "    </tr>\n",
       "    <tr>\n",
       "      <th>36</th>\n",
       "      <td>뮤지컬〈공룡 타루〉－국립중앙박물관 극장용</td>\n",
       "      <td>07.03~08.29</td>\n",
       "    </tr>\n",
       "    <tr>\n",
       "      <th>37</th>\n",
       "      <td>［하남］싱어롱 콘서트 뮤지컬 ‘ Live Show ’ 〈무지개 물고기〉</td>\n",
       "      <td>07.10~07.11</td>\n",
       "    </tr>\n",
       "    <tr>\n",
       "      <th>38</th>\n",
       "      <td>뮤지컬 흔한남매〈엄마의 꿈을 지켜라!〉- 서울앵콜</td>\n",
       "      <td>07.08~08.01</td>\n",
       "    </tr>\n",
       "    <tr>\n",
       "      <th>39</th>\n",
       "      <td>뮤지컬〈공룡 타루〉－국립중앙박물관 극장용</td>\n",
       "      <td>07.03~08.29</td>\n",
       "    </tr>\n",
       "  </tbody>\n",
       "</table>\n",
       "</div>"
      ],
      "text/plain": [
       "                                        title   Data Range\n",
       "0                               뮤지컬 〈라 레볼뤼시옹〉  05.18~08.01\n",
       "1                              뮤지컬 〈마리 앙투아네트〉  07.13~10.03\n",
       "2                                   뮤지컬 〈시카고〉  04.02~07.18\n",
       "3                               뮤지컬 〈라 레볼뤼시옹〉  05.18~08.01\n",
       "4                              뮤지컬 〈마리 앙투아네트〉  07.13~10.03\n",
       "5   2021 GOLDEN CHILD CONCERT ‘Summer Breeze’  07.17~07.18\n",
       "6            하성운(HA SUNG WOON) Forest ＆ in 서울  07.24~07.25\n",
       "7                              강아솔 토크콘서트 - 인천  07.03~07.03\n",
       "8   2021 GOLDEN CHILD CONCERT ‘Summer Breeze’  07.17~07.18\n",
       "9            하성운(HA SUNG WOON) Forest ＆ in 서울  07.24~07.25\n",
       "10                                  연극 작업의 정석  06.18~07.31\n",
       "11                                연극 `완벽한 타인`  05.18~08.01\n",
       "12                               2021 연극 〈렁스〉  06.26~09.05\n",
       "13                                  연극 작업의 정석  06.18~07.31\n",
       "14                                연극 `완벽한 타인`  05.18~08.01\n",
       "15             라포엠 첫 번째 단독 콘서트 〈SCENE#1〉 - 울산  06.26~06.27\n",
       "16           〈포르테 디 콰트로 언플러그드 콘서트: 더 클래식〉 피날레  07.16~07.16\n",
       "17             라포엠 첫 번째 단독 콘서트 〈SCENE#1〉 - 성남  07.24~07.25\n",
       "18             라포엠 첫 번째 단독 콘서트 〈SCENE#1〉 - 울산  06.26~06.27\n",
       "19           〈포르테 디 콰트로 언플러그드 콘서트: 더 클래식〉 피날레  07.16~07.16\n",
       "20      2021 The Esports Night 철권7 팀리그 (6.25)  06.25~06.25\n",
       "21                            두산 vs 롯데 (6.27)  06.27~06.27\n",
       "22                           키움 vs KIA (6.27)  06.27~06.27\n",
       "23      2021 The Esports Night 철권7 팀리그 (6.25)  06.25~06.25\n",
       "24                            두산 vs 롯데 (6.27)  06.27~06.27\n",
       "25     2021 함양 대봉스카이랜드 ( 모노레일＆짚라인 ) (21.07 ~)  07.01~07.31\n",
       "26                       구미에코랜드 생태탐방 모노레일 이용권  04.01~07.31\n",
       "27                                     자라섬캠핑장  05.12~07.31\n",
       "28     2021 함양 대봉스카이랜드 ( 모노레일＆짚라인 ) (21.07 ~)  07.01~07.31\n",
       "29                       구미에코랜드 생태탐방 모노레일 이용권  04.01~07.31\n",
       "30                                  마르첼로 바렌기展  04.24~08.22\n",
       "31                         ［슈퍼얼리버드］앨리스 달튼 브라운  07.24~10.24\n",
       "32                         요시고 사진전：따뜻한 휴일의 기록  06.23~12.05\n",
       "33                                  마르첼로 바렌기展  04.24~08.22\n",
       "34                         ［슈퍼얼리버드］앨리스 달튼 브라운  07.24~10.24\n",
       "35                뮤지컬 흔한남매〈엄마의 꿈을 지켜라!〉- 서울앵콜  07.08~08.01\n",
       "36                     뮤지컬〈공룡 타루〉－국립중앙박물관 극장용  07.03~08.29\n",
       "37    ［하남］싱어롱 콘서트 뮤지컬 ‘ Live Show ’ 〈무지개 물고기〉  07.10~07.11\n",
       "38                뮤지컬 흔한남매〈엄마의 꿈을 지켜라!〉- 서울앵콜  07.08~08.01\n",
       "39                     뮤지컬〈공룡 타루〉－국립중앙박물관 극장용  07.03~08.29"
      ]
     },
     "execution_count": 19,
     "metadata": {},
     "output_type": "execute_result"
    }
   ],
   "source": [
    "pd_data = pd.DataFrame(contents, columns = ['title', 'Data Range'])\n",
    "pd_data"
   ]
  },
  {
   "cell_type": "code",
   "execution_count": 21,
   "id": "27201cf5",
   "metadata": {},
   "outputs": [],
   "source": [
    "pd_data.to_excel('./saves/ticket_scraping.xls', index=False)"
   ]
  },
  {
   "cell_type": "code",
   "execution_count": null,
   "id": "ea8b5198",
   "metadata": {},
   "outputs": [],
   "source": []
  }
 ],
 "metadata": {
  "kernelspec": {
   "display_name": "Python 3",
   "language": "python",
   "name": "python3"
  },
  "language_info": {
   "codemirror_mode": {
    "name": "ipython",
    "version": 3
   },
   "file_extension": ".py",
   "mimetype": "text/x-python",
   "name": "python",
   "nbconvert_exporter": "python",
   "pygments_lexer": "ipython3",
   "version": "3.6.4"
  }
 },
 "nbformat": 4,
 "nbformat_minor": 5
}
